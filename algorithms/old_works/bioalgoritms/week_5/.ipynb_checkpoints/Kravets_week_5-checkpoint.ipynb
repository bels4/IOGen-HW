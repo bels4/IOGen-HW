{
 "cells": [
  {
   "cell_type": "code",
   "execution_count": 1,
   "metadata": {},
   "outputs": [],
   "source": [
    "import numpy as np\n",
    "import itertools as it"
   ]
  },
  {
   "cell_type": "markdown",
   "metadata": {},
   "source": [
    "### WPGMA"
   ]
  },
  {
   "cell_type": "code",
   "execution_count": 2,
   "metadata": {},
   "outputs": [],
   "source": [
    "#matrix, labels"
   ]
  },
  {
   "cell_type": "code",
   "execution_count": 60,
   "metadata": {},
   "outputs": [],
   "source": [
    "def find_minima_matrix(matrix):\n",
    "    n = len(matrix)\n",
    "    res = float('inf')\n",
    "    a, b = 0, 0\n",
    "    for i in range(1, n):\n",
    "        for j in range(i):\n",
    "            if matrix[i][j] < res:\n",
    "                res = matrix[i][j]\n",
    "                a = i\n",
    "                b = j\n",
    "    #print(a,b)\n",
    "    return a, b"
   ]
  },
  {
   "cell_type": "code",
   "execution_count": 61,
   "metadata": {},
   "outputs": [],
   "source": [
    "def label_work(labels, a, b, distance, distance_label):\n",
    "    if a > b:\n",
    "        a, b = b, a\n",
    "    try:\n",
    "        labels[a] = '(' + labels[a] + ':' + str(distance-distance_label[a]) + ','  + labels[b] + ':' + str(distance-distance_label[b]) + ')'\n",
    "        distance_label[a] = distance\n",
    "    except:\n",
    "        print('oops')\n",
    "    del labels[b]\n",
    "    del distance_label[b]\n",
    "    \n",
    "    return labels"
   ]
  },
  {
   "cell_type": "code",
   "execution_count": 62,
   "metadata": {},
   "outputs": [],
   "source": [
    "def making_node(matrix, a, b):\n",
    "    if b < a:\n",
    "        a, b = b, a\n",
    "    distance = matrix[b][a]/2.\n",
    "    row = []\n",
    "    for i in range(0, a):\n",
    "        matrix[a][i] = float((matrix[a][i] + matrix[b][i]))*0.5\n",
    "    \n",
    "    for i in range(a+1, b):\n",
    "        matrix[i][a] = float((matrix[i][a] + matrix[b][i]))*0.5\n",
    "        \n",
    "    for i in range(b+1, len(matrix)):\n",
    "        matrix[i][a] = float((matrix[i][a] + matrix[i][b]))*0.5\n",
    "\n",
    "    matrix = np.delete(matrix, b, 0)\n",
    "    matrix = np.delete(matrix, b, 1)\n",
    "        \n",
    "    matrix = make_simm(matrix)\n",
    "    return matrix, distance"
   ]
  },
  {
   "cell_type": "code",
   "execution_count": 63,
   "metadata": {},
   "outputs": [],
   "source": [
    "def WPGMA(matrix, labels):\n",
    "    distance_label = [0]*len(labels)\n",
    "    while len(labels) > 1:\n",
    "        #print(matrix)\n",
    "        a, b = find_minima_matrix(matrix)\n",
    "        matrix, dist = making_node(matrix, a, b)\n",
    "        #print(matrix)\n",
    "        labels = label_work(labels, a, b, dist, distance_label)\n",
    "\n",
    "    return labels[0]"
   ]
  },
  {
   "cell_type": "code",
   "execution_count": 64,
   "metadata": {},
   "outputs": [],
   "source": [
    "def make_simm(M):\n",
    "    for i in range(M.shape[0]):\n",
    "        for j in range(i):\n",
    "            M[j][i] = M[i][j]\n",
    "    return M"
   ]
  },
  {
   "cell_type": "markdown",
   "metadata": {},
   "source": [
    "#### TESTING"
   ]
  },
  {
   "cell_type": "code",
   "execution_count": 65,
   "metadata": {},
   "outputs": [
    {
     "data": {
      "text/plain": [
       "'(((D:2.0,C:2.0):2.0,B:4.0):3.25,A:7.25)'"
      ]
     },
     "execution_count": 65,
     "metadata": {},
     "output_type": "execute_result"
    }
   ],
   "source": [
    "#test №1\n",
    "\n",
    "A = [\n",
    "    [0, 0, 0, 0],                        \n",
    "    [4., 0, 0, 0],                       \n",
    "    [8., 8., 0, 0],\n",
    "    [10., 16., 16., 0], \n",
    "    ]\n",
    "A = np.row_stack(A)\n",
    "A = make_simm(A)\n",
    "\n",
    "labels = ['D', 'C', 'B', 'A']\n",
    "\n",
    "ans = WPGMA(A, labels)\n",
    "ans"
   ]
  },
  {
   "cell_type": "code",
   "execution_count": 66,
   "metadata": {},
   "outputs": [
    {
     "data": {
      "text/plain": [
       "'((((A:2.0,C:2.0):1.0,B:3.0):1.0,(D:2.5,E:2.5):1.5):0.5,F:4.5)'"
      ]
     },
     "execution_count": 66,
     "metadata": {},
     "output_type": "execute_result"
    }
   ],
   "source": [
    "#test 2\n",
    "A = [\n",
    "    [0, 0, 0, 0, 0, 0],                        \n",
    "    [5., 0, 0, 0, 0, 0],                       \n",
    "    [4., 7., 0, 0, 0, 0],                  \n",
    "    [7., 10., 7., 0, 0, 0],                \n",
    "    [6., 9., 6., 5., 0, 0 ],          \n",
    "    [8., 11., 8., 9., 8., 0],         \n",
    "    ]\n",
    "\n",
    "A = np.row_stack(A)\n",
    "A = make_simm(A)\n",
    "\n",
    "labels = ['A', 'B', 'C', 'D', 'E', 'F']\n",
    "\n",
    "ans = WPGMA(A, labels)\n",
    "ans"
   ]
  },
  {
   "cell_type": "markdown",
   "metadata": {},
   "source": [
    "### UPGMA"
   ]
  },
  {
   "cell_type": "code",
   "execution_count": 10,
   "metadata": {},
   "outputs": [],
   "source": [
    "#matrix, labels"
   ]
  },
  {
   "cell_type": "code",
   "execution_count": 11,
   "metadata": {},
   "outputs": [],
   "source": [
    "def find_minima_matrix_2(matrix):\n",
    "    n = len(matrix)\n",
    "    res = float('inf')\n",
    "    a, b = 0, 0\n",
    "    for i in range(1, n):\n",
    "        for j in range(i):\n",
    "            if matrix[i][j] < res:\n",
    "                res = matrix[i][j]\n",
    "                a = i\n",
    "                b = j\n",
    "    #print(a,b)\n",
    "    return a, b"
   ]
  },
  {
   "cell_type": "code",
   "execution_count": 67,
   "metadata": {},
   "outputs": [],
   "source": [
    "def label_work_2(labels, a, b, distance, size, distance_label):\n",
    "    if a > b:\n",
    "        a, b = b, a\n",
    "    try:\n",
    "        labels[a] = '(' + labels[a] + ':' + str(distance-distance_label[a]) + ','  + labels[b] + ':' + str(distance-distance_label[b]) + ')'\n",
    "        distance_label[a] = distance\n",
    "    except:\n",
    "        print('oops')\n",
    "    size[a] += 1\n",
    "    del labels[b]\n",
    "    del distance_label[b]\n",
    "    \n",
    "    return labels"
   ]
  },
  {
   "cell_type": "code",
   "execution_count": 68,
   "metadata": {},
   "outputs": [],
   "source": [
    "def making_node_2(matrix, a, b, size):\n",
    "    if b < a:\n",
    "        a, b = b, a\n",
    "    distance = matrix[b][a]/2.\n",
    "    w1 = size[a]\n",
    "    w2 = size[b]\n",
    "    for i in range(0, a):\n",
    "        matrix[a][i] = (matrix[a][i]*w1 + matrix[b][i]*w2)/(w1+w2)\n",
    "    for i in range(a+1, b):\n",
    "        matrix[i][a] = (matrix[i][a]*w1 + matrix[b][i]*w2)/(w1+w2)\n",
    "    for i in range(b+1, len(matrix)):\n",
    "        matrix[i][a] = (matrix[i][a]*w1 + matrix[i][b]*w2)/(w1+w2)\n",
    "\n",
    "    matrix = np.delete(matrix, b, 0)\n",
    "    matrix = np.delete(matrix, b, 1)\n",
    "    \n",
    "    matrix = make_simm(matrix)\n",
    "    return matrix, distance"
   ]
  },
  {
   "cell_type": "code",
   "execution_count": 223,
   "metadata": {},
   "outputs": [],
   "source": [
    "def UPGMA(matrix, labels):\n",
    "    distance_label = [0]*len(labels)\n",
    "    size = [1]*len(labels)\n",
    "    while len(labels) > 1:\n",
    "        #print(matrix)\n",
    "        a, b = find_minima_matrix_2(matrix)\n",
    "        matrix, dist = making_node_2(matrix, a, b, size)\n",
    "        labels = label_work_2(labels, a, b, dist, size, distance_label)\n",
    "    #print(matrix)\n",
    "\n",
    "    return labels[0]"
   ]
  },
  {
   "cell_type": "markdown",
   "metadata": {},
   "source": [
    "#### TESTING"
   ]
  },
  {
   "cell_type": "code",
   "execution_count": 224,
   "metadata": {},
   "outputs": [
    {
     "data": {
      "text/plain": [
       "'(((D:2.0,C:2.0):2.0,B:4.0):3.0,A:7.0)'"
      ]
     },
     "execution_count": 224,
     "metadata": {},
     "output_type": "execute_result"
    }
   ],
   "source": [
    "#test №1\n",
    "\n",
    "A = [\n",
    "    [0, 0, 0, 0],                        \n",
    "    [4., 0, 0, 0],                       \n",
    "    [8., 8., 0, 0],\n",
    "    [10., 16., 16., 0], \n",
    "    ]\n",
    "A = np.row_stack(A)\n",
    "A = make_simm(A)\n",
    "\n",
    "labels = ['D', 'C', 'B', 'A']\n",
    "\n",
    "ans = UPGMA(A, labels)\n",
    "ans"
   ]
  },
  {
   "cell_type": "code",
   "execution_count": 225,
   "metadata": {},
   "outputs": [
    {
     "data": {
      "text/plain": [
       "'((((A:2.0,C:2.0):1.0,B:3.0):0.75,(D:2.5,E:2.5):1.25):0.6875,F:4.4375)'"
      ]
     },
     "execution_count": 225,
     "metadata": {},
     "output_type": "execute_result"
    }
   ],
   "source": [
    "#test 2\n",
    "A = [\n",
    "    [0, 0, 0, 0, 0, 0],                        \n",
    "    [5., 0, 0, 0, 0, 0],                       \n",
    "    [4., 7., 0, 0, 0, 0],                  \n",
    "    [7., 10., 7., 0, 0, 0],                \n",
    "    [6., 9., 6., 5., 0, 0 ],          \n",
    "    [8., 11., 8., 9., 8., 0],         \n",
    "    ]\n",
    "\n",
    "A = np.row_stack(A)\n",
    "A = make_simm(A)\n",
    "\n",
    "labels = ['A', 'B', 'C', 'D', 'E', 'F']\n",
    "\n",
    "ans = UPGMA(A, labels)\n",
    "ans"
   ]
  },
  {
   "cell_type": "markdown",
   "metadata": {},
   "source": [
    "### Neighboasjhasjkfhsjkfh joining\n",
    "* In this attempt if we are making node for (A,B) we won't include D(A,B) in M(A) and M(B) and so on."
   ]
  },
  {
   "cell_type": "code",
   "execution_count": 287,
   "metadata": {},
   "outputs": [],
   "source": [
    "def calculating_L(matrix, a, b, labels):\n",
    "    n = len(labels)\n",
    "    M_a = 0\n",
    "    M_b = 0\n",
    "    L = 0\n",
    "    for i in range(n):\n",
    "        if i != b:\n",
    "            M_a += matrix[a][i]\n",
    "        else:\n",
    "            continue\n",
    "    for i in range(n):\n",
    "        if i != a:\n",
    "            M_b += matrix[b][i]\n",
    "        else:\n",
    "            continue\n",
    "    M_a = M_a/(n-2)\n",
    "    M_b = M_b/(n-2)\n",
    "    L = matrix[a][b] - M_b - M_a\n",
    "    return L, M_a, M_b\n",
    "    "
   ]
  },
  {
   "cell_type": "code",
   "execution_count": 288,
   "metadata": {},
   "outputs": [],
   "source": [
    "#matrix, labels\n",
    "def finding_L(matrix, labels, size):\n",
    "    labels_count = []\n",
    "    for x in enumerate(labels):\n",
    "        labels_count.append(x[0])\n",
    "    all_pairs = it.combinations(labels_count, 2)\n",
    "    all_pairs = list(all_pairs)\n",
    "    res = float('inf')\n",
    "    x, y = None, None\n",
    "    m_a = 0\n",
    "    m_b = 0\n",
    "    for t in all_pairs:\n",
    "        a, b = t\n",
    "        L, M_a, M_b = calculating_L(matrix, a, b, labels)\n",
    "        if L+0.1*(size[int(a)]+size[int(b)]) < res:\n",
    "            res = L+0.1*(size[int(a)]+size[int(b)])\n",
    "            x = a\n",
    "            y = b\n",
    "            m_a = M_a\n",
    "            m_b = M_b\n",
    "    return x, y, m_a, m_b"
   ]
  },
  {
   "cell_type": "code",
   "execution_count": 289,
   "metadata": {},
   "outputs": [],
   "source": [
    "def matrix_labels_transform(matrix,labels, size):\n",
    "    a, b, m_a, m_b = finding_L(matrix, labels, size)\n",
    "    #print(labels)\n",
    "    if a > b:\n",
    "        a, b = b, a\n",
    "    dist_1 = round(0.5*(matrix[a][b] + m_a - m_b), 2)\n",
    "    dist_2 = round(0.5*(matrix[a][b] - m_a + m_b), 2)\n",
    "    labels[a] = '(' + labels[a] + ':' + str(dist_1) + ','  + labels[b] + ':' + str(dist_2) + ')'\n",
    "    size[a] += 1\n",
    "    del labels[b]\n",
    "    del size[b]\n",
    "    \n",
    "    for i in range(0, a):\n",
    "        matrix[a][i] = round(0.5*(matrix[a][i] + matrix[b][i] - matrix[a][b]), 2)\n",
    "    \n",
    "    for i in range(a+1, b):\n",
    "        matrix[i][a] = round(0.5*(matrix[i][a] + matrix[i][b] - matrix[a][b]), 2)\n",
    "        \n",
    "    for i in range(b+1, len(matrix)):\n",
    "        matrix[i][a] = round(0.5*(matrix[i][a] + matrix[i][b] - matrix[a][b]), 2)\n",
    "\n",
    "    matrix = np.delete(matrix, b, 0)\n",
    "    matrix = np.delete(matrix, b, 1)\n",
    "    \n",
    "    matrix = make_simm(matrix)\n",
    "    #print(matrix)\n",
    "    \n",
    "    return matrix, labels\n",
    "\n",
    "\n",
    "def main_NJ(matrix, labels):\n",
    "    size = [1]*len(labels)\n",
    "    while len(labels) > 2:\n",
    "        matrix, labels = matrix_labels_transform(matrix, labels, size)\n",
    "    if len(labels) == 2:\n",
    "        #print(matrix)\n",
    "        dist_1 = round(0.5*(matrix[0][1]), 2)\n",
    "        dist_2 = round(0.5*(matrix[0][1]), 2)\n",
    "        labels[0] = '(' + labels[0] + ':' + str(dist_1) + ','  + labels[1] + ':' + str(dist_2) + ')'\n",
    "        del labels[1]\n",
    "        labels[0] += ':start node'\n",
    "    return matrix, labels"
   ]
  },
  {
   "cell_type": "markdown",
   "metadata": {},
   "source": [
    "#### TESTING"
   ]
  },
  {
   "cell_type": "code",
   "execution_count": 290,
   "metadata": {},
   "outputs": [
    {
     "data": {
      "text/plain": [
       "'(((D:0.5,C:3.5):0.5,B:5.5):5.25,A:5.25):start node'"
      ]
     },
     "execution_count": 290,
     "metadata": {},
     "output_type": "execute_result"
    }
   ],
   "source": [
    "#test №1\n",
    "\n",
    "A = [\n",
    "    [0, 0, 0, 0],                        \n",
    "    [4., 0, 0, 0],                       \n",
    "    [8., 8., 0, 0],\n",
    "    [10., 16., 16., 0], \n",
    "    ]\n",
    "A = np.row_stack(A)\n",
    "A = make_simm(A)\n",
    "\n",
    "labels = ['D', 'C', 'B', 'A']\n",
    "\n",
    "matrix, ans = main_NJ(A, labels)\n",
    "ans[0]"
   ]
  },
  {
   "cell_type": "code",
   "execution_count": 291,
   "metadata": {},
   "outputs": [
    {
     "data": {
      "text/plain": [
       "'((((A:1.0,B:4.0):1.0,C:2.0):1.0,(D:3.0,E:2.0):1.0):2.5,F:2.5):start node'"
      ]
     },
     "execution_count": 291,
     "metadata": {},
     "output_type": "execute_result"
    }
   ],
   "source": [
    "#test 2\n",
    "A = [\n",
    "    [0, 0, 0, 0, 0, 0],                        \n",
    "    [5., 0, 0, 0, 0, 0],                       \n",
    "    [4., 7., 0, 0, 0, 0],                  \n",
    "    [7., 10., 7., 0, 0, 0],                \n",
    "    [6., 9., 6., 5., 0, 0 ],          \n",
    "    [8., 11., 8., 9., 8., 0],         \n",
    "    ]\n",
    "\n",
    "A = np.row_stack(A)\n",
    "A = make_simm(A)\n",
    "\n",
    "labels = ['A', 'B', 'C', 'D', 'E', 'F']\n",
    "\n",
    "matrix, ans = main_NJ(A, labels)\n",
    "ans[0]"
   ]
  },
  {
   "cell_type": "markdown",
   "metadata": {},
   "source": [
    "### Another attempt (should be more precise)\n",
    "* In this attempt if we are making node for (A,B) we WILL include D(A,B) in M(A) and M(B) and so on."
   ]
  },
  {
   "cell_type": "code",
   "execution_count": 292,
   "metadata": {},
   "outputs": [],
   "source": [
    "def calculating_L(matrix, a, b):\n",
    "    n = len(matrix)\n",
    "    M_a = 0\n",
    "    M_b = 0\n",
    "    L = 0\n",
    "    for i in range(n):\n",
    "        M_a += matrix[a][i]\n",
    "    for i in range(n):\n",
    "        M_b += matrix[b][i]\n",
    "    M_a = M_a/(n-2)\n",
    "    M_b = M_b/(n-2)\n",
    "    L = matrix[a][b] - M_b - M_a\n",
    "    return L, M_a, M_b   "
   ]
  },
  {
   "cell_type": "code",
   "execution_count": 293,
   "metadata": {},
   "outputs": [],
   "source": [
    "#matrix, labels\n",
    "def finding_L(matrix, labels, size):\n",
    "    shape = matrix.shape\n",
    "    temp_matrix = np.zeros(shape)\n",
    "    labels_count = []\n",
    "    for x in enumerate(labels):\n",
    "        labels_count.append(x[0])\n",
    "    all_pairs = it.combinations(labels_count, 2)\n",
    "    all_pairs = list(all_pairs)\n",
    "   #print(all_pairs)\n",
    "    res = float('inf')\n",
    "    x, y = None, None\n",
    "    m_a = 0\n",
    "    m_b = 0\n",
    "    for t in all_pairs:\n",
    "        a, b = t\n",
    "        L, M_a, M_b = calculating_L(matrix, a, b)\n",
    "        L_sized = L+0.1*(size[a]+size[b])\n",
    "        temp_matrix[a][b] = L_sized\n",
    "        #print(L)\n",
    "        if L_sized < res:\n",
    "            res = L_sized\n",
    "            x = a\n",
    "            y = b\n",
    "            m_a = M_a\n",
    "            m_b = M_b\n",
    "            #print(res, a, b)\n",
    "    #print(temp_matrix)\n",
    "    del temp_matrix\n",
    "    return x, y, m_a, m_b"
   ]
  },
  {
   "cell_type": "code",
   "execution_count": 294,
   "metadata": {},
   "outputs": [],
   "source": [
    "def matrix_labels_transform(matrix,labels, size):\n",
    "    #print(matrix)\n",
    "    a, b, m_a, m_b = finding_L(matrix, labels, size)\n",
    "    dist_1 = round(0.5*(matrix[a][b] + m_a - m_b), 2)\n",
    "    dist_2 = round(0.5*(matrix[a][b] - m_a + m_b), 2)\n",
    "    labels[a] = '(' + labels[a] + ':' + str(dist_1) + ','  + labels[b] + ':' + str(dist_2) + ')'\n",
    "    size[a] += 1\n",
    "    del labels[b]\n",
    "    del size[b]\n",
    "    \n",
    "    for i in range(0, a):\n",
    "        matrix[a][i] = round(0.5*(matrix[a][i] + matrix[b][i] - matrix[a][b]), 2)\n",
    "    \n",
    "    for i in range(a+1, b):\n",
    "        matrix[i][a] = round(0.5*(matrix[i][a] + matrix[i][b] - matrix[a][b]), 2)\n",
    "        \n",
    "    for i in range(b+1, len(matrix)):\n",
    "        matrix[i][a] = round(0.5*(matrix[i][a] + matrix[i][b] - matrix[a][b]), 2)\n",
    "\n",
    "    matrix = np.delete(matrix, b, 0)\n",
    "    matrix = np.delete(matrix, b, 1)\n",
    "    \n",
    "    matrix = make_simm(matrix)\n",
    "    return matrix, labels\n",
    "\n",
    "\n",
    "def main_NJ(matrix, labels):\n",
    "    size = [1]*len(labels)\n",
    "    while len(labels) > 2:\n",
    "        matrix, labels = matrix_labels_transform(matrix, labels, size)\n",
    "    if len(labels) == 2:\n",
    "        #print(matrix)\n",
    "        dist_1 = round(0.5*(matrix[0][1]), 2)\n",
    "        dist_2 = round(0.5*(matrix[0][1]), 2)\n",
    "        labels[0] = '(' + labels[0] + ':' + str(dist_1) + ','  + labels[1] + ':' + str(dist_2) + ')'\n",
    "        del labels[1]\n",
    "        labels[0] += ':start-node'\n",
    "    return matrix, labels"
   ]
  },
  {
   "cell_type": "markdown",
   "metadata": {},
   "source": [
    "#### TESTING"
   ]
  },
  {
   "cell_type": "code",
   "execution_count": 295,
   "metadata": {},
   "outputs": [
    {
     "data": {
      "text/plain": [
       "'((D:10.0,C:4.0):2.0,(B:4.0,A:13.0):2.0):start-node'"
      ]
     },
     "execution_count": 295,
     "metadata": {},
     "output_type": "execute_result"
    }
   ],
   "source": [
    "#test №3 (another matrix)\n",
    "\n",
    "A = [\n",
    "    [0, 0, 0, 0],                        \n",
    "    [14., 0, 0, 0],                       \n",
    "    [18., 12., 0, 0],\n",
    "    [27., 21., 17., 0], \n",
    "    ]\n",
    "A = np.row_stack(A)\n",
    "A = make_simm(A)\n",
    "\n",
    "labels = ['D', 'C', 'B', 'A']\n",
    "\n",
    "matrix, ans = main_NJ(A, labels)\n",
    "ans[0]"
   ]
  },
  {
   "cell_type": "code",
   "execution_count": 296,
   "metadata": {},
   "outputs": [
    {
     "data": {
      "text/plain": [
       "'((D:0.0,A:10.0):1.0,(C:3.0,B:5.0):1.0):start-node'"
      ]
     },
     "execution_count": 296,
     "metadata": {},
     "output_type": "execute_result"
    }
   ],
   "source": [
    "#test №1\n",
    "\n",
    "A = [\n",
    "    [0, 0, 0, 0],                        \n",
    "    [4., 0, 0, 0],                       \n",
    "    [8., 8., 0, 0],\n",
    "    [10., 16., 16., 0], \n",
    "    ]\n",
    "A = np.row_stack(A)\n",
    "A = make_simm(A)\n",
    "\n",
    "labels = ['D', 'C', 'B', 'A']\n",
    "\n",
    "matrix, ans = main_NJ(A, labels)\n",
    "ans[0]"
   ]
  },
  {
   "cell_type": "code",
   "execution_count": 297,
   "metadata": {},
   "outputs": [
    {
     "data": {
      "text/plain": [
       "'(((A:1.0,B:4.0):1.0,C:2.0):0.5,((D:3.0,E:2.0):1.0,F:5.0):0.5):start-node'"
      ]
     },
     "execution_count": 297,
     "metadata": {},
     "output_type": "execute_result"
    }
   ],
   "source": [
    "#test 2\n",
    "A = [\n",
    "    [0, 0, 0, 0, 0, 0],                        \n",
    "    [5., 0, 0, 0, 0, 0],                       \n",
    "    [4., 7., 0, 0, 0, 0],                  \n",
    "    [7., 10., 7., 0, 0, 0],                \n",
    "    [6., 9., 6., 5., 0, 0 ],          \n",
    "    [8., 11., 8., 9., 8., 0],         \n",
    "    ]\n",
    "\n",
    "A = np.row_stack(A)\n",
    "A = make_simm(A)\n",
    "\n",
    "labels = ['A', 'B', 'C', 'D', 'E', 'F']\n",
    "\n",
    "matrix, ans = main_NJ(A, labels)\n",
    "ans[0]"
   ]
  },
  {
   "cell_type": "code",
   "execution_count": null,
   "metadata": {},
   "outputs": [],
   "source": []
  }
 ],
 "metadata": {
  "kernelspec": {
   "display_name": "Python 3",
   "language": "python",
   "name": "python3"
  },
  "language_info": {
   "codemirror_mode": {
    "name": "ipython",
    "version": 3
   },
   "file_extension": ".py",
   "mimetype": "text/x-python",
   "name": "python",
   "nbconvert_exporter": "python",
   "pygments_lexer": "ipython3",
   "version": "3.7.3"
  }
 },
 "nbformat": 4,
 "nbformat_minor": 2
}
