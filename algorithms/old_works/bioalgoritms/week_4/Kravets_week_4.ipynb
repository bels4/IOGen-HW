{
 "cells": [
  {
   "cell_type": "markdown",
   "metadata": {},
   "source": [
    "### Nussinov"
   ]
  },
  {
   "cell_type": "code",
   "execution_count": 5,
   "metadata": {},
   "outputs": [],
   "source": [
    "import numpy as np\n",
    "import itertools as it\n",
    "import matplotlib.pyplot as plt"
   ]
  },
  {
   "cell_type": "code",
   "execution_count": 1,
   "metadata": {},
   "outputs": [],
   "source": [
    "def initialize(string_rna):\n",
    "    n = len(string_rna)\n",
    "    matrix = np.zeros(shape=(len(string_rna), len(string_rna)))\n",
    "    #parents = np.nan(shape = (len(string_rna), len(string_rna)))\n",
    "    '''matrix = [[None]*n for i in range(n)]\n",
    "    matrix = np.array(matrix)\n",
    "    matrix.reshape((9,9))\n",
    "    for i in range(n):\n",
    "        matrix[i][i] = 0\n",
    "        if i > 0:\n",
    "            matrix[i][i-1] = 0'''\n",
    "    return matrix"
   ]
  },
  {
   "cell_type": "code",
   "execution_count": 2,
   "metadata": {},
   "outputs": [],
   "source": [
    "def compliment(letter_a, letter_b):\n",
    "    if (letter_a == 'A' and letter_b == 'U') or (letter_a == 'U' and letter_b == 'A'):\n",
    "        return 1\n",
    "    if (letter_a == 'C' and letter_b == 'G') or (letter_a == 'G' and letter_b == 'C'): \n",
    "        return 1\n",
    "    else:\n",
    "        return 0"
   ]
  },
  {
   "cell_type": "code",
   "execution_count": 3,
   "metadata": {},
   "outputs": [],
   "source": [
    "def sum_max(i, j, matrix):\n",
    "    res = 0\n",
    "    k_0 = None\n",
    "    for k in range(i+1, j):\n",
    "        summ = matrix[i][k]+matrix[k+1][j]\n",
    "        if summ > res:\n",
    "            res = summ\n",
    "            k_0 = k\n",
    "    return res, k_0"
   ]
  },
  {
   "cell_type": "code",
   "execution_count": 26,
   "metadata": {},
   "outputs": [
    {
     "data": {
      "text/plain": [
       "array([[0., 0., 0., 1., 1.],\n",
       "       [0., 0., 0., 0., 1.],\n",
       "       [0., 0., 0., 0., 0.],\n",
       "       [0., 0., 0., 0., 0.],\n",
       "       [0., 0., 0., 0., 0.]])"
      ]
     },
     "execution_count": 26,
     "metadata": {},
     "output_type": "execute_result"
    }
   ],
   "source": [
    "def test(string_rna):\n",
    "    n = len(string_rna)\n",
    "    matrix = initialize(string_rna)\n",
    "    for t in range(1, n):\n",
    "        for j in range(t+2, n):\n",
    "            i = j - t - 2\n",
    "            matrix[i][j] = 1\n",
    "    return matrix\n",
    "    \n",
    "string_rna = 'GGACC'\n",
    "matrix = test(string_rna)\n",
    "matrix"
   ]
  },
  {
   "cell_type": "code",
   "execution_count": 28,
   "metadata": {},
   "outputs": [],
   "source": [
    "def nussinov(string_rna, min_loop):\n",
    "    n = len(string_rna)\n",
    "    #print(n)\n",
    "    matrix = initialize(string_rna)\n",
    "    for t in range(1, n):\n",
    "        for j in range(t+min_loop, n):\n",
    "            i = j - t - min_loop\n",
    "            res, k_0 = sum_max(i, j, matrix)\n",
    "            matrix[i][j] = max(matrix[i][j-1],\n",
    "                                matrix[i+1][j],\n",
    "                                matrix[i+1][j-1] + compliment(string_rna[i], string_rna[j]),\n",
    "                                res)\n",
    "    return 0, n-1, matrix"
   ]
  },
  {
   "cell_type": "code",
   "execution_count": 14,
   "metadata": {},
   "outputs": [],
   "source": [
    "def neighborhood(i, j, matrix):\n",
    "    if matrix[i][j-1] == None:\n",
    "        return False\n",
    "    if matrix[i+1][j] == None:\n",
    "        return False\n",
    "    if matrix[i+1][j-1] == None:\n",
    "        return False\n",
    "    else:\n",
    "        return True"
   ]
  },
  {
   "cell_type": "code",
   "execution_count": 15,
   "metadata": {},
   "outputs": [],
   "source": [
    "def return_way(matrix, string_rna, pair):\n",
    "    n = len(string_rna)\n",
    "    i = 0\n",
    "    j = n-1\n",
    "    ans_list = []\n",
    "    while neighborhood(i, j, matrix):\n",
    "        if matrix[i][j] == matrix[i+1][j-1] + compliment(string_rna[i], string_rna[j]):\n",
    "            ans_list.append(string_rna[i]+string_rna[j])\n",
    "            i, j = i+1, j-1\n",
    "            continue\n",
    "        if matrix[i][j] == matrix[i+1][j]:\n",
    "            ans_list.append(string_rna[i])\n",
    "            i = i+1\n",
    "            continue\n",
    "        if matrix[i][j] == matrix[i][j-1]:\n",
    "            ans_list.append(string_rna[j])\n",
    "            i = i+1\n",
    "            continue\n",
    "        #res, k_0 = sum_max(i, j, matrix)\n",
    "        #if matrix[i][j] == res:\n",
    "        #    ans_list          \n",
    "    return ans_list"
   ]
  },
  {
   "cell_type": "code",
   "execution_count": 16,
   "metadata": {},
   "outputs": [],
   "source": [
    "def traceback(matrix,string_rna,i,j,pair):\n",
    "    if i<j:\n",
    "        if matrix[i,j] == matrix[i+1,j]:\n",
    "            traceback(matrix,string_rna,i+1,j,pair)\n",
    "        elif matrix[i,j] == matrix[i,j-1]:\n",
    "            traceback(matrix, string_rna, i, j-1, pair)\n",
    "        elif matrix[i,j] == matrix[i+1,j-1]+compliment(string_rna[i],string_rna[j]):\n",
    "            pair.append([i,j,str(string_rna[i]),str(string_rna[j])])\n",
    "            traceback(matrix, string_rna, i+1, j-1, pair)\n",
    "        else:\n",
    "            for k in range(i+1,j):\n",
    "                if matrix[i,j] == matrix[i,k]+matrix[k+1,j]:\n",
    "                    traceback(matrix, string_rna, i, k, pair)\n",
    "                    traceback(matrix, string_rna, k+1, j, pair)\n",
    "                    break\n",
    "    return pair"
   ]
  },
  {
   "cell_type": "raw",
   "metadata": {},
   "source": [
    "def traceback_new(matrix,string_rna,i,j,pair):\n",
    "    if i<j:\n",
    "        if matrix[i,j] == matrix[i+1,j]:\n",
    "            traceback(matrix,string_rna,i+1,j,pair)\n",
    "        elif matrix[i,j] == matrix[i,j-1]:\n",
    "            traceback(matrix, string_rna, i, j-1, pair)\n",
    "        elif matrix[i,j] == matrix[i+1,j-1]+compliment(string_rna[i],string_rna[j]):\n",
    "            pair.append([i,j,str(string_rna[i]),str(string_rna[j])])\n",
    "            traceback(matrix, string_rna, i+1, j-1, pair)\n",
    "        res, k = sum_max(i,j,matrix)\n",
    "        if matrix[i,j] == res:\n",
    "            traceback(matrix, string_rna, i, k, pair)\n",
    "            traceback(matrix, string_rna, k+1, j, pair)\n",
    "            break\n",
    "    return pair"
   ]
  },
  {
   "cell_type": "code",
   "execution_count": 17,
   "metadata": {},
   "outputs": [],
   "source": [
    "def analyze_traceback(ans, string_rna):\n",
    "    n = len(string_rna)\n",
    "    res = ['-']*n\n",
    "    for x in ans:\n",
    "        res[x[0]] = '('\n",
    "        res[x[1]] = ')'\n",
    "    print(''.join(res))"
   ]
  },
  {
   "cell_type": "code",
   "execution_count": 36,
   "metadata": {},
   "outputs": [
    {
     "name": "stdout",
     "output_type": "stream",
     "text": [
      "[[0. 0. 0. 0. 0. 0. 1. 2. 3.]\n",
      " [0. 0. 0. 0. 0. 0. 1. 2. 3.]\n",
      " [0. 0. 0. 0. 0. 0. 1. 2. 2.]\n",
      " [0. 0. 0. 0. 0. 0. 1. 1. 1.]\n",
      " [0. 0. 0. 0. 0. 0. 0. 0. 0.]\n",
      " [0. 0. 0. 0. 0. 0. 0. 0. 0.]\n",
      " [0. 0. 0. 0. 0. 0. 0. 0. 0.]\n",
      " [0. 0. 0. 0. 0. 0. 0. 0. 0.]\n",
      " [0. 0. 0. 0. 0. 0. 0. 0. 0.]]\n",
      "[[1, 8, 'G', 'C'], [2, 7, 'G', 'C'], [3, 6, 'A', 'U']]\n",
      "-(((--)))\n"
     ]
    }
   ],
   "source": [
    "string_rna = 'GGGAAAUCC'\n",
    "i, j, matrix = nussinov(string_rna, 2)\n",
    "ans = traceback(matrix, string_rna, i, j, [])\n",
    "print(matrix)\n",
    "print(ans)\n",
    "analyze_traceback(ans, string_rna)"
   ]
  },
  {
   "cell_type": "code",
   "execution_count": 38,
   "metadata": {},
   "outputs": [
    {
     "name": "stdout",
     "output_type": "stream",
     "text": [
      "(---)\n"
     ]
    }
   ],
   "source": [
    "string_rna = 'GGACC'\n",
    "i, j, matrix = nussinov(string_rna, 3)\n",
    "ans = traceback(matrix, string_rna, i, j, [])\n",
    "#print(matrix)\n",
    "#print(ans)\n",
    "analyze_traceback(ans, string_rna)"
   ]
  },
  {
   "cell_type": "code",
   "execution_count": 42,
   "metadata": {},
   "outputs": [
    {
     "name": "stdout",
     "output_type": "stream",
     "text": [
      "--(((((-((----)))))))\n"
     ]
    }
   ],
   "source": [
    "string_rna = 'AAACAUGAGGAUUACCCAUGU'\n",
    "i, j, matrix = nussinov(string_rna, 4)\n",
    "ans = traceback(matrix, string_rna, i, j, [])\n",
    "#print(matrix)\n",
    "#print(ans)\n",
    "analyze_traceback(ans, string_rna)"
   ]
  },
  {
   "cell_type": "markdown",
   "metadata": {},
   "source": [
    "## <span style=\"color:white\">Exercise 1</span>"
   ]
  },
  {
   "cell_type": "code",
   "execution_count": 49,
   "metadata": {},
   "outputs": [
    {
     "data": {
      "text/plain": [
       "array([['A', 'C', 'G', 'A', 'A', 'A', 'G', 'U'],\n",
       "       ['U', 'A', 'G', 'U', 'A', 'A', 'U', 'A'],\n",
       "       ['A', 'G', 'G', 'U', 'G', 'A', 'C', 'U'],\n",
       "       ['C', 'G', 'G', 'C', 'A', 'A', 'U', 'G'],\n",
       "       ['G', 'U', 'G', 'G', 'G', 'A', 'A', 'C']], dtype='<U1')"
      ]
     },
     "execution_count": 49,
     "metadata": {},
     "output_type": "execute_result"
    }
   ],
   "source": [
    "f = open('seq_al.txt', 'r')\n",
    "data = []\n",
    "for line in f:\n",
    "    data.append(list(line.replace('\\n', '')))\n",
    "data = np.array(data)\n",
    "data"
   ]
  },
  {
   "cell_type": "code",
   "execution_count": 50,
   "metadata": {},
   "outputs": [],
   "source": [
    "def M_i_j(col1, col2, all_pairs):\n",
    "    M_i_j = 0\n",
    "    col1 = list(col1)\n",
    "    col2 = list(col2)\n",
    "    for pair in all_pairs:\n",
    "        x, y = pair[0], pair[1]\n",
    "        f_x = col1.count(x)/len(col1)\n",
    "        #print(f_x)\n",
    "        f_y = col2.count(y)/len(col2)\n",
    "        res = 0\n",
    "        for i in range(len(col1)):\n",
    "            if (col1[i] == x and col2[i] == y):\n",
    "                res += 1\n",
    "        f_x_y = res/len(col1)\n",
    "        if f_x_y != 0:\n",
    "            res_2 = f_x_y/(f_x*f_y)\n",
    "            #print(res_2)\n",
    "            M_i_j += f_x_y*np.log2(res_2)\n",
    "        else:\n",
    "            M_i_j += 0\n",
    "    return round(M_i_j, 2)"
   ]
  },
  {
   "cell_type": "code",
   "execution_count": 51,
   "metadata": {},
   "outputs": [],
   "source": [
    "def make_simm(M):\n",
    "    for j in range(M.shape[0]):\n",
    "        for i in range(j):\n",
    "            M[j][i] = M[i][j]\n",
    "    return M"
   ]
  },
  {
   "cell_type": "code",
   "execution_count": 52,
   "metadata": {},
   "outputs": [],
   "source": [
    "def making_M(data, all_pairs):\n",
    "    size = data.shape[1]\n",
    "    M = np.zeros((size, size))\n",
    "    for i in range(size-1):\n",
    "        for j in range(i+1, size):\n",
    "            col1 = data[:, i]\n",
    "            col2 = data[:, j]\n",
    "            M[i][j] = M_i_j(col1, col2, all_pairs)\n",
    "    M = make_simm(M)\n",
    "    return M\n",
    "            "
   ]
  },
  {
   "cell_type": "code",
   "execution_count": 53,
   "metadata": {},
   "outputs": [
    {
     "name": "stdout",
     "output_type": "stream",
     "text": [
      "('A', 'A') ('A', 'C') ('A', 'G') ('A', 'U') ('C', 'A') ('C', 'C') ('C', 'G') ('C', 'U') ('G', 'A') ('G', 'C') ('G', 'G') ('G', 'U') ('U', 'A') ('U', 'C') ('U', 'G') ('U', 'U')\n"
     ]
    }
   ],
   "source": [
    "a = ['A', 'C', 'G', 'U']\n",
    "all_pairs = it.product(a,a)\n",
    "all_pairs = list(all_pairs)\n",
    "print(*all_pairs)"
   ]
  },
  {
   "cell_type": "code",
   "execution_count": 54,
   "metadata": {},
   "outputs": [
    {
     "name": "stdout",
     "output_type": "stream",
     "text": [
      "('A', 'C') ('A', 'G') ('A', 'U') ('C', 'A') ('C', 'G') ('C', 'U') ('G', 'A') ('G', 'C') ('G', 'U') ('U', 'A') ('U', 'C') ('U', 'G')\n"
     ]
    }
   ],
   "source": [
    "pairs = it.permutations(a, 2)\n",
    "pairs = list(pairs)\n",
    "print(*pairs)"
   ]
  },
  {
   "cell_type": "code",
   "execution_count": 55,
   "metadata": {},
   "outputs": [
    {
     "name": "stdout",
     "output_type": "stream",
     "text": [
      "[[0.   1.52 0.   0.06 0.36 0.   1.26 1.92]\n",
      " [1.52 0.   0.   1.52 0.36 0.   1.52 0.79]\n",
      " [0.   0.   0.   0.   0.   0.   0.   0.  ]\n",
      " [0.06 1.52 0.   0.   0.16 0.   1.46 1.46]\n",
      " [0.36 0.36 0.   0.16 0.   0.   0.97 0.42]\n",
      " [0.   0.   0.   0.   0.   0.   0.   0.  ]\n",
      " [1.26 1.52 0.   1.46 0.97 0.   0.   1.52]\n",
      " [1.92 0.79 0.   1.46 0.42 0.   1.52 0.  ]]\n"
     ]
    }
   ],
   "source": [
    "M = making_M(data, pairs)\n",
    "print(M)"
   ]
  },
  {
   "cell_type": "code",
   "execution_count": 57,
   "metadata": {},
   "outputs": [
    {
     "data": {
      "image/png": "[encoded data removed]",
      "text/plain": [
       "<Figure size 720x576 with 2 Axes>"
      ]
     },
     "metadata": {
      "needs_background": "light"
     },
     "output_type": "display_data"
    }
   ],
   "source": [
    "f = plt.figure(figsize = (10, 8))\n",
    "plt.imshow(M, origin = True)\n",
    "plt.colorbar()\n",
    "plt.show()"
   ]
  },
  {
   "cell_type": "markdown",
   "metadata": {},
   "source": [
    "#### <span style=\"color:white\">Analyzing bacteria with tRNAs have the same length</span> "
   ]
  },
  {
   "cell_type": "code",
   "execution_count": 58,
   "metadata": {},
   "outputs": [],
   "source": [
    "from Bio import SeqIO"
   ]
  },
  {
   "cell_type": "code",
   "execution_count": 59,
   "metadata": {},
   "outputs": [],
   "source": [
    "# Reading\n",
    "bac_records = []\n",
    "records_organism = list(SeqIO.parse('bacterial-trnas.fa', 'fasta'))\n",
    "bac_records.append(records_organism)\n",
    "seq_rna_rec = []\n",
    "for x in bac_records[0]:\n",
    "    seq_rna_rec.append(str(x.seq))"
   ]
  },
  {
   "cell_type": "code",
   "execution_count": 60,
   "metadata": {},
   "outputs": [
    {
     "name": "stdout",
     "output_type": "stream",
     "text": [
      "6685 76\n"
     ]
    }
   ],
   "source": [
    "# Analyzing\n",
    "len_seq = []\n",
    "\n",
    "for seq in seq_rna_rec:\n",
    "    len_seq.append(len(seq))\n",
    "\n",
    "uniq = np.unique(len_seq)\n",
    "\n",
    "res = 0\n",
    "length = None\n",
    "for m in uniq:\n",
    "    cnt = len_seq.count(m)\n",
    "    if cnt > res:\n",
    "        res = cnt\n",
    "        length = m\n",
    "print(res, length)"
   ]
  },
  {
   "cell_type": "markdown",
   "metadata": {},
   "source": [
    "* Возьмём тРНК длиной 76"
   ]
  },
  {
   "cell_type": "code",
   "execution_count": 61,
   "metadata": {},
   "outputs": [
    {
     "data": {
      "text/plain": [
       "array([['G', 'G', 'G', ..., 'C', 'C', 'A'],\n",
       "       ['G', 'G', 'G', ..., 'C', 'C', 'A'],\n",
       "       ['G', 'G', 'G', ..., 'C', 'C', 'A'],\n",
       "       ...,\n",
       "       ['G', 'C', 'C', ..., 'C', 'C', 'A'],\n",
       "       ['A', 'G', 'G', ..., 'C', 'C', 'A'],\n",
       "       ['G', 'G', 'G', ..., 'C', 'C', 'A']], dtype='<U1')"
      ]
     },
     "execution_count": 61,
     "metadata": {},
     "output_type": "execute_result"
    }
   ],
   "source": [
    "# Data appending\n",
    "data_bac = []\n",
    "for seq in seq_rna_rec:\n",
    "    if len(seq) == 76:\n",
    "        data_bac.append(list(seq))\n",
    "data_bac = np.array(data_bac)\n",
    "data_bac"
   ]
  },
  {
   "cell_type": "code",
   "execution_count": 62,
   "metadata": {},
   "outputs": [
    {
     "name": "stdout",
     "output_type": "stream",
     "text": [
      "[[ 0.    0.02 -0.02 ... -0.    0.    0.  ]\n",
      " [ 0.02  0.   -0.18 ... -0.    0.01  0.  ]\n",
      " [-0.02 -0.18  0.   ... -0.    0.   -0.  ]\n",
      " ...\n",
      " [-0.   -0.   -0.   ...  0.    0.    0.  ]\n",
      " [ 0.    0.01  0.   ...  0.    0.   -0.  ]\n",
      " [ 0.    0.   -0.   ...  0.   -0.    0.  ]]\n"
     ]
    }
   ],
   "source": [
    "M_bac = making_M(data_bac, pairs)\n",
    "print(M_bac)"
   ]
  },
  {
   "cell_type": "code",
   "execution_count": 63,
   "metadata": {},
   "outputs": [
    {
     "data": {
      "image/png": "[encoded data removed]",
      "text/plain": [
       "<Figure size 720x576 with 2 Axes>"
      ]
     },
     "metadata": {
      "needs_background": "light"
     },
     "output_type": "display_data"
    }
   ],
   "source": [
    "f = plt.figure(figsize = (10, 8))\n",
    "plt.imshow(M_bac, origin = True)\n",
    "plt.colorbar()\n",
    "plt.show()"
   ]
  },
  {
   "cell_type": "markdown",
   "metadata": {},
   "source": [
    "* Как можно увидеть у нас есть некоторые \"теплые\"зоны, которые можно интерпретировать как 'родственные' зоны связи у взятых тРНК бактерий"
   ]
  }
 ],
 "metadata": {
  "kernelspec": {
   "display_name": "Python 3",
   "language": "python",
   "name": "python3"
  },
  "language_info": {
   "codemirror_mode": {
    "name": "ipython",
    "version": 3
   },
   "file_extension": ".py",
   "mimetype": "text/x-python",
   "name": "python",
   "nbconvert_exporter": "python",
   "pygments_lexer": "ipython3",
   "version": "3.7.3"
  }
 },
 "nbformat": 4,
 "nbformat_minor": 2
}
