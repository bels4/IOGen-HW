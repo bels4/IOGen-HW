{
 "cells": [
  {
   "cell_type": "code",
   "execution_count": 1,
   "metadata": {},
   "outputs": [],
   "source": [
    "import numpy as np"
   ]
  },
  {
   "cell_type": "code",
   "execution_count": 39,
   "metadata": {},
   "outputs": [
    {
     "name": "stdout",
     "output_type": "stream",
     "text": [
      "abba$aa\n"
     ]
    }
   ],
   "source": [
    "#BWT\n",
    "\n",
    "class string_BWT(str):\n",
    "    \"\"\"\n",
    "    Class to add func to create Burrows – Wheeler transformation of string\n",
    "    Inheritate:\n",
    "        str - class\n",
    "    \"\"\"\n",
    "    # we will use suff_arr\n",
    "    def make_suff_arr(self):\n",
    "        \"\"\"\n",
    "        Func to create suff_arr\n",
    "        Return:\n",
    "            list: list of suffixes\n",
    "        \"\"\"\n",
    "        return sorted([self[i:len(self)] for i in range(len(self)-1, -1, -1)])\n",
    "    # computing bwt\n",
    "    def make_bwt(self):\n",
    "        \"\"\"\n",
    "        Void func to create Burrows – Wheeler transformation of string\n",
    "        Print:\n",
    "            BWT of string\n",
    "        \"\"\"\n",
    "        # we will use pref_suff\n",
    "        pref_suff = make_suff_arr1(self)\n",
    "        # inserting '$' in the beginning\n",
    "        pref_suff.insert(0, '$')\n",
    "        #print(pref_suff)\n",
    "        # making matrix: [suff + '$' + pref] (for each suff)\n",
    "        bwt = []\n",
    "        for suff in pref_suff:\n",
    "            if suff == '$':\n",
    "                bwt.append(suff + self)\n",
    "            else:\n",
    "                bwt.append(suff + '$' + self[0:len(self)-len(suff)])\n",
    "        # taking last elements\n",
    "        res = ''\n",
    "        for x in bwt:\n",
    "            res += x[-1]\n",
    "        print(res)\n",
    "        \n",
    "string = string_BWT('abaaba')\n",
    "string.make_bwt()"
   ]
  }
 ],
 "metadata": {
  "kernelspec": {
   "display_name": "Python 3",
   "language": "python",
   "name": "python3"
  },
  "language_info": {
   "codemirror_mode": {
    "name": "ipython",
    "version": 3
   },
   "file_extension": ".py",
   "mimetype": "text/x-python",
   "name": "python",
   "nbconvert_exporter": "python",
   "pygments_lexer": "ipython3",
   "version": "3.7.3"
  }
 },
 "nbformat": 4,
 "nbformat_minor": 2
}
