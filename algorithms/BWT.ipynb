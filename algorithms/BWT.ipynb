{
 "cells": [
  {
   "cell_type": "code",
   "execution_count": 1,
   "metadata": {},
   "outputs": [],
   "source": [
    "import numpy as np"
   ]
  },
  {
   "cell_type": "code",
   "execution_count": 20,
   "metadata": {},
   "outputs": [
    {
     "data": {
      "text/plain": [
       "['asv', 'sv', 'v']"
      ]
     },
     "execution_count": 20,
     "metadata": {},
     "output_type": "execute_result"
    }
   ],
   "source": [
    "def make_suff_arr1(string):\n",
    "    return sorted([string[i:len(string)] for i in range(len(string)-1, -1, -1)])\n",
    "make_suff_arr('asv')"
   ]
  },
  {
   "cell_type": "code",
   "execution_count": 22,
   "metadata": {},
   "outputs": [
    {
     "name": "stdout",
     "output_type": "stream",
     "text": [
      "['a', 'aaba', 'aba', 'abaaba', 'ba', 'baaba']\n"
     ]
    },
    {
     "data": {
      "text/plain": [
       "'bba$aa'"
      ]
     },
     "execution_count": 22,
     "metadata": {},
     "output_type": "execute_result"
    }
   ],
   "source": [
    "def making_bwt(string):\n",
    "    pref_suff = make_suff_arr1(string)\n",
    "    print(pref_suff)\n",
    "    bwt = []\n",
    "    for suff in pref_suff:\n",
    "        if suff == '$':\n",
    "            bwt.append(suff + string)\n",
    "        else:\n",
    "            bwt.append(suff + '$' + string[0:len(string)-len(suff)])\n",
    "    res = ''\n",
    "    for x in bwt:\n",
    "        res += x[-1]\n",
    "    return res\n",
    "making_bwt('abaaba')\n",
    "    "
   ]
  },
  {
   "cell_type": "code",
   "execution_count": null,
   "metadata": {},
   "outputs": [],
   "source": []
  }
 ],
 "metadata": {
  "kernelspec": {
   "display_name": "Python 3",
   "language": "python",
   "name": "python3"
  },
  "language_info": {
   "codemirror_mode": {
    "name": "ipython",
    "version": 3
   },
   "file_extension": ".py",
   "mimetype": "text/x-python",
   "name": "python",
   "nbconvert_exporter": "python",
   "pygments_lexer": "ipython3",
   "version": "3.7.3"
  }
 },
 "nbformat": 4,
 "nbformat_minor": 2
}
