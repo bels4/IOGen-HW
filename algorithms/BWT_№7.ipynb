{
 "cells": [
  {
   "cell_type": "code",
   "execution_count": 47,
   "metadata": {},
   "outputs": [],
   "source": [
    "import numpy as np\n",
    "from tqdm import tqdm"
   ]
  },
  {
   "cell_type": "code",
   "execution_count": 1,
   "metadata": {},
   "outputs": [
    {
     "name": "stdout",
     "output_type": "stream",
     "text": [
      "['$', 'ab', 'abbab', 'b', 'bab', 'bbab']\n"
     ]
    },
    {
     "data": {
      "text/plain": [
       "'bb$aba'"
      ]
     },
     "execution_count": 1,
     "metadata": {},
     "output_type": "execute_result"
    }
   ],
   "source": [
    "def make_bwt(string):\n",
    "    suff_arr = sorted([string[i:len(string)] for i in range(0, len(string))])\n",
    "    suff_arr.insert(0, '$')\n",
    "    print(suff_arr)\n",
    "    res = ''\n",
    "    for x in suff_arr:\n",
    "        if x == '$':\n",
    "            res += string[-1]\n",
    "        else:\n",
    "            if len(x) == len(string):\n",
    "                res += '$'\n",
    "            else:\n",
    "                row = string[0:len(string)-len(x)]\n",
    "                res += row[-1]\n",
    "    return res\n",
    "\n",
    "make_bwt('abbab')"
   ]
  },
  {
   "cell_type": "code",
   "execution_count": 5,
   "metadata": {},
   "outputs": [],
   "source": [
    "#BWT\n",
    "\n",
    "#We will try to optimize this\n",
    "\n",
    "class string_BWT(str):\n",
    "    \"\"\"\n",
    "    Class to add func to create Burrows – Wheeler transformation of string\n",
    "    Inheritate:\n",
    "        str - class\n",
    "    \"\"\"\n",
    "    # we will use suff_arr\n",
    "    def make_suff_arr(self):\n",
    "        \"\"\"\n",
    "        Func to create suff_arr\n",
    "        Return:\n",
    "            list: list of suffixes\n",
    "        \"\"\"\n",
    "        n = len(self)\n",
    "        with open('output/suff_a.txt', 'a') as f_a, open('output/suff_t.txt','a') as f_t, open('output/suff_c.txt','a') as f_c,open('output/suff_g.txt', 'a') as f_g:\n",
    "            for i in range(n):\n",
    "                if self[i:n][0] == 'A':\n",
    "                    f_a.write(self[i:n]+'\\n')\n",
    "                if self[i:n][0] == 'T':\n",
    "                    f_t.write(self[i:n]+'\\n')\n",
    "                if self[i:n][0] == 'C':\n",
    "                    f_c.write(self[i:n]+'\\n')\n",
    "                if self[i:n][0] == 'G':\n",
    "                    f_g.write(self[i:n]+'\\n')\n",
    "                \n",
    "    # computing bwt\n",
    "    def make_bwt(self):\n",
    "        \"\"\"\n",
    "        Void func to create Burrows – Wheeler transformation of string\n",
    "        Print:\n",
    "            BWT of string\n",
    "        \"\"\"\n",
    "        # we will use pref_suff\n",
    "        alphavite = ['a','c','g','t']\n",
    "        with open('output/bwt.txt', 'a') as bwt_file:\n",
    "            bwt_file.write(self[-1])\n",
    "            for let in alphavite:\n",
    "                suff = []\n",
    "                with open('output/suff_{}.txt'.format(letter), 'r') as file:\n",
    "                    for line in file:\n",
    "                        suff.append(line.rstrip()+'$')\n",
    "        #print(pref_suff)\n",
    "        # making matrix: [suff + '$' + pref] (for each suff)\n",
    "        '''for suff in pref_suff:\n",
    "            row = []\n",
    "            if suff == '$':\n",
    "                row = self\n",
    "                with open('output/bwt.txt', 'a') as bwt_file:\n",
    "                    bwt_file.write(row[-1])\n",
    "            else:\n",
    "                row = suff + '$' + self[0:len(self)-len(suff)]\n",
    "                with open('output/bwt.txt', 'a') as bwt_file:\n",
    "                    bwt_file.write(row[-1])\n",
    "        del pref_suff'''"
   ]
  },
  {
   "cell_type": "code",
   "execution_count": 3,
   "metadata": {},
   "outputs": [],
   "source": [
    "from Bio import SeqIO\n",
    "record = list(SeqIO.parse('data/genome.fasta', 'fasta'))\n",
    "string = str(record[0].seq)[0:50000]"
   ]
  },
  {
   "cell_type": "code",
   "execution_count": 9,
   "metadata": {
    "scrolled": true
   },
   "outputs": [
    {
     "name": "stderr",
     "output_type": "stream",
     "text": [
      "IOPub data rate exceeded.\n",
      "The notebook server will temporarily stop sending output\n",
      "to the client in order to avoid crashing it.\n",
      "To change this limit, set the config variable\n",
      "`--NotebookApp.iopub_data_rate_limit`.\n",
      "\n",
      "Current values:\n",
      "NotebookApp.iopub_data_rate_limit=1000000.0 (bytes/sec)\n",
      "NotebookApp.rate_limit_window=3.0 (secs)\n",
      "\n"
     ]
    }
   ],
   "source": [
    "answer = make_bwt(string)"
   ]
  },
  {
   "cell_type": "code",
   "execution_count": 10,
   "metadata": {},
   "outputs": [],
   "source": [
    "with open('output/bwt_ans.txt', 'w') as f:\n",
    "    f.write(answer)"
   ]
  }
 ],
 "metadata": {
  "kernelspec": {
   "display_name": "Python 3",
   "language": "python",
   "name": "python3"
  },
  "language_info": {
   "codemirror_mode": {
    "name": "ipython",
    "version": 3
   },
   "file_extension": ".py",
   "mimetype": "text/x-python",
   "name": "python",
   "nbconvert_exporter": "python",
   "pygments_lexer": "ipython3",
   "version": "3.7.3"
  }
 },
 "nbformat": 4,
 "nbformat_minor": 2
}
