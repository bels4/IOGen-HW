{
 "cells": [
  {
   "cell_type": "code",
   "execution_count": 1,
   "metadata": {},
   "outputs": [],
   "source": [
    "import numpy as np"
   ]
  },
  {
   "cell_type": "code",
   "execution_count": 17,
   "metadata": {},
   "outputs": [],
   "source": [
    "def LRS(str): \n",
    "    n = len(str)\n",
    "    # Creating matrix\n",
    "    matrix = [[0 for x in range(n + 1)]  \n",
    "                for y in range(n + 1)] \n",
    "    res = \"\"\n",
    "    res_length = 0\n",
    "    index = 0\n",
    "    # Calculating matrix\n",
    "    for i in range(1, n + 1): \n",
    "        for j in range(i + 1, n + 1): \n",
    "            '''#if (str[i - 1] == str[j - 1] and\n",
    "                #matrix[i - 1][j - 1] < (j - i)):'''\n",
    "            if (str[i-1] == str[j-1]):\n",
    "                matrix[i][j] = matrix[i-1][j-1] + 1\n",
    "                if (matrix[i][j] > res_length): \n",
    "                    res_length = matrix[i][j] \n",
    "                    index = max(i, index)      \n",
    "            else: \n",
    "                matrix[i][j] = 0\n",
    "    \n",
    "    if (res_length > 0): \n",
    "        for i in range(index - res_length + 1, \n",
    "                                    index + 1): \n",
    "            res = res + str[i-1]\n",
    "    return res, matrix "
   ]
  },
  {
   "cell_type": "code",
   "execution_count": 29,
   "metadata": {},
   "outputs": [
    {
     "data": {
      "text/plain": [
       "'cat'"
      ]
     },
     "execution_count": 29,
     "metadata": {},
     "output_type": "execute_result"
    }
   ],
   "source": [
    "ans, matrix = LRS('catastrophe of cats')\n",
    "ans"
   ]
  },
  {
   "cell_type": "code",
   "execution_count": 32,
   "metadata": {},
   "outputs": [
    {
     "data": {
      "text/plain": [
       "'abba'"
      ]
     },
     "execution_count": 32,
     "metadata": {},
     "output_type": "execute_result"
    }
   ],
   "source": [
    "ans, matrix = LRS('abbabba')\n",
    "ans"
   ]
  }
 ],
 "metadata": {
  "kernelspec": {
   "display_name": "Python 3",
   "language": "python",
   "name": "python3"
  },
  "language_info": {
   "codemirror_mode": {
    "name": "ipython",
    "version": 3
   },
   "file_extension": ".py",
   "mimetype": "text/x-python",
   "name": "python",
   "nbconvert_exporter": "python",
   "pygments_lexer": "ipython3",
   "version": "3.7.3"
  }
 },
 "nbformat": 4,
 "nbformat_minor": 2
}
