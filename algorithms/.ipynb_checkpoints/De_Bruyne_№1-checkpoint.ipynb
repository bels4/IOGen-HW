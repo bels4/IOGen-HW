{
 "cells": [
  {
   "cell_type": "code",
   "execution_count": 32,
   "metadata": {},
   "outputs": [],
   "source": [
    "%matplotlib inline\n",
    "\n",
    "import shutil\n",
    "import os\n",
    "from joblib import dump, load\n",
    "import urllib3\n",
    "import certifi\n",
    "from Bio import SeqIO\n",
    "import Bio\n",
    "from glob import glob\n",
    "import json\n",
    "from IPython import display\n",
    "import pandas as pd\n",
    "import numpy as np\n",
    "import networkx as nx\n",
    "from networkx import algorithms as alg\n",
    "from collections import OrderedDict\n",
    "\n",
    "import matplotlib.pyplot as plt\n",
    "import seaborn as sns\n",
    "import re\n",
    "\n",
    "from Bio import Align"
   ]
  },
  {
   "cell_type": "code",
   "execution_count": 45,
   "metadata": {},
   "outputs": [],
   "source": [
    "class Graph_DB:\n",
    "    def __init__(self):\n",
    "        \n",
    "        self.reads = []\n",
    "        self.nodes = []\n",
    "        self.edges = []\n",
    "        #assume all reads have same length\n",
    "        self.l = 0\n",
    "    \n",
    "    def read_fastq(self, path):\n",
    "        \n",
    "        # Reading fastq file\n",
    "        \n",
    "        with open(path, \"r\") as file:\n",
    "            i = 0\n",
    "            for line in file:\n",
    "                if i%2 == 1:\n",
    "                    self.reads.append(line.rstrip())\n",
    "                #print(line)\n",
    "                i += 1\n",
    "        self.l = len(self.reads[0])\n",
    "    \n",
    "    def make_graph(self):\n",
    "        # Converting reads to nodes and edges\n",
    "        for read in self.reads:\n",
    "            left = read[0: self.l-1]\n",
    "            right = read[1: self.l]\n",
    "            if left not in self.nodes:\n",
    "                self.nodes.append(left)\n",
    "            if right not in self.nodes:\n",
    "                self.nodes.append(right)\n",
    "            self.edges.append((left, right))\n",
    "    \n",
    "    def euler_cycle(self):\n",
    "        G = nx.MultiDiGraph()\n",
    "        G.add_nodes_from(self.nodes)\n",
    "        G.add_edges_from(self.edges)\n",
    "        return alg.eulerian_circuit(G)"
   ]
  },
  {
   "cell_type": "code",
   "execution_count": 55,
   "metadata": {},
   "outputs": [
    {
     "ename": "KeyboardInterrupt",
     "evalue": "",
     "output_type": "error",
     "traceback": [
      "\u001b[0;31m---------------------------------------------------------------------------\u001b[0m",
      "\u001b[0;31mKeyboardInterrupt\u001b[0m                         Traceback (most recent call last)",
      "\u001b[0;32m<ipython-input-55-413ee3762b66>\u001b[0m in \u001b[0;36m<module>\u001b[0;34m\u001b[0m\n\u001b[1;32m      2\u001b[0m \u001b[0mOJB\u001b[0m\u001b[0;34m.\u001b[0m\u001b[0mread_fastq\u001b[0m\u001b[0;34m(\u001b[0m\u001b[0;34m'data/Carsonella_ruddii.reads.bwa.read1.fastq'\u001b[0m\u001b[0;34m)\u001b[0m\u001b[0;34m\u001b[0m\u001b[0;34m\u001b[0m\u001b[0m\n\u001b[1;32m      3\u001b[0m \u001b[0mOJB\u001b[0m\u001b[0;34m.\u001b[0m\u001b[0mread_fastq\u001b[0m\u001b[0;34m(\u001b[0m\u001b[0;34m'data/Carsonella_ruddii.reads.bwa.read2.fastq'\u001b[0m\u001b[0;34m)\u001b[0m\u001b[0;34m\u001b[0m\u001b[0;34m\u001b[0m\u001b[0m\n\u001b[0;32m----> 4\u001b[0;31m \u001b[0mOJB\u001b[0m\u001b[0;34m.\u001b[0m\u001b[0mmake_graph\u001b[0m\u001b[0;34m(\u001b[0m\u001b[0;34m)\u001b[0m\u001b[0;34m\u001b[0m\u001b[0;34m\u001b[0m\u001b[0m\n\u001b[0m\u001b[1;32m      5\u001b[0m \u001b[0;31m#OJB.reads\u001b[0m\u001b[0;34m\u001b[0m\u001b[0;34m\u001b[0m\u001b[0;34m\u001b[0m\u001b[0m\n",
      "\u001b[0;32m<ipython-input-45-e4aaec033130>\u001b[0m in \u001b[0;36mmake_graph\u001b[0;34m(self)\u001b[0m\n\u001b[1;32m     28\u001b[0m             \u001b[0;32mif\u001b[0m \u001b[0mleft\u001b[0m \u001b[0;32mnot\u001b[0m \u001b[0;32min\u001b[0m \u001b[0mself\u001b[0m\u001b[0;34m.\u001b[0m\u001b[0mnodes\u001b[0m\u001b[0;34m:\u001b[0m\u001b[0;34m\u001b[0m\u001b[0;34m\u001b[0m\u001b[0m\n\u001b[1;32m     29\u001b[0m                 \u001b[0mself\u001b[0m\u001b[0;34m.\u001b[0m\u001b[0mnodes\u001b[0m\u001b[0;34m.\u001b[0m\u001b[0mappend\u001b[0m\u001b[0;34m(\u001b[0m\u001b[0mleft\u001b[0m\u001b[0;34m)\u001b[0m\u001b[0;34m\u001b[0m\u001b[0;34m\u001b[0m\u001b[0m\n\u001b[0;32m---> 30\u001b[0;31m             \u001b[0;32mif\u001b[0m \u001b[0mright\u001b[0m \u001b[0;32mnot\u001b[0m \u001b[0;32min\u001b[0m \u001b[0mself\u001b[0m\u001b[0;34m.\u001b[0m\u001b[0mnodes\u001b[0m\u001b[0;34m:\u001b[0m\u001b[0;34m\u001b[0m\u001b[0;34m\u001b[0m\u001b[0m\n\u001b[0m\u001b[1;32m     31\u001b[0m                 \u001b[0mself\u001b[0m\u001b[0;34m.\u001b[0m\u001b[0mnodes\u001b[0m\u001b[0;34m.\u001b[0m\u001b[0mappend\u001b[0m\u001b[0;34m(\u001b[0m\u001b[0mright\u001b[0m\u001b[0;34m)\u001b[0m\u001b[0;34m\u001b[0m\u001b[0;34m\u001b[0m\u001b[0m\n\u001b[1;32m     32\u001b[0m             \u001b[0mself\u001b[0m\u001b[0;34m.\u001b[0m\u001b[0medges\u001b[0m\u001b[0;34m.\u001b[0m\u001b[0mappend\u001b[0m\u001b[0;34m(\u001b[0m\u001b[0;34m(\u001b[0m\u001b[0mleft\u001b[0m\u001b[0;34m,\u001b[0m \u001b[0mright\u001b[0m\u001b[0;34m)\u001b[0m\u001b[0;34m)\u001b[0m\u001b[0;34m\u001b[0m\u001b[0;34m\u001b[0m\u001b[0m\n",
      "\u001b[0;31mKeyboardInterrupt\u001b[0m: "
     ]
    }
   ],
   "source": [
    "OJB = Graph_DB()\n",
    "OJB.read_fastq('data/Carsonella_ruddii.reads.bwa.read1.fastq')\n",
    "OJB.read_fastq('data/Carsonella_ruddii.reads.bwa.read2.fastq')\n",
    "OJB.make_graph()\n",
    "#OJB.reads"
   ]
  },
  {
   "cell_type": "code",
   "execution_count": null,
   "metadata": {},
   "outputs": [],
   "source": [
    "G = nx.MultiDiGraph()\n",
    "G.add_nodes_from(OJB.nodes)\n",
    "key = G.add_edges_from(OJB.edges)"
   ]
  },
  {
   "cell_type": "code",
   "execution_count": null,
   "metadata": {
    "scrolled": false
   },
   "outputs": [],
   "source": [
    "gen = alg.eulerian_circuit(G)"
   ]
  },
  {
   "cell_type": "code",
   "execution_count": null,
   "metadata": {},
   "outputs": [],
   "source": [
    "print(list(gen))"
   ]
  },
  {
   "cell_type": "code",
   "execution_count": 56,
   "metadata": {},
   "outputs": [],
   "source": [
    "o = Graph_DB()\n",
    "o.edges = [('AAB','ABA'), ('ABA', 'BAC')]\n",
    "o.nodes = ['AAB', 'ABA', 'BAC']\n",
    "\n",
    "G = nx.MultiDiGraph()\n",
    "G.add_nodes_from(o.nodes)\n",
    "key = G.add_edges_from(o.edges)"
   ]
  },
  {
   "cell_type": "code",
   "execution_count": 57,
   "metadata": {},
   "outputs": [],
   "source": [
    "gen = alg.eulerian_circuit(G)"
   ]
  },
  {
   "cell_type": "code",
   "execution_count": 60,
   "metadata": {},
   "outputs": [
    {
     "data": {
      "text/plain": [
       "OutMultiEdgeView([('AAB', 'ABA', 0), ('ABA', 'BAC', 0)])"
      ]
     },
     "execution_count": 60,
     "metadata": {},
     "output_type": "execute_result"
    }
   ],
   "source": [
    "G.edges"
   ]
  },
  {
   "cell_type": "code",
   "execution_count": null,
   "metadata": {},
   "outputs": [],
   "source": []
  }
 ],
 "metadata": {
  "kernelspec": {
   "display_name": "Python 3",
   "language": "python",
   "name": "python3"
  },
  "language_info": {
   "codemirror_mode": {
    "name": "ipython",
    "version": 3
   },
   "file_extension": ".py",
   "mimetype": "text/x-python",
   "name": "python",
   "nbconvert_exporter": "python",
   "pygments_lexer": "ipython3",
   "version": "3.7.4"
  }
 },
 "nbformat": 4,
 "nbformat_minor": 2
}
