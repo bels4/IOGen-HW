{
 "cells": [
  {
   "cell_type": "markdown",
   "metadata": {},
   "source": [
    "### Needleman-Wunsh"
   ]
  },
  {
   "cell_type": "code",
   "execution_count": 1,
   "metadata": {},
   "outputs": [],
   "source": [
    "import numpy as np\n",
    "import scipy as sc"
   ]
  },
  {
   "cell_type": "code",
   "execution_count": 25,
   "metadata": {},
   "outputs": [],
   "source": [
    "def match(a,b, mu):\n",
    "    if a == b:\n",
    "        return -mu\n",
    "    else:\n",
    "        return mu"
   ]
  },
  {
   "cell_type": "code",
   "execution_count": 3,
   "metadata": {},
   "outputs": [],
   "source": [
    "def noodle(str1, str2, mu, gap, match:callable):\n",
    "    #Computing matrix\n",
    "    str1 = str1.upper()\n",
    "    str2 = str2.upper()\n",
    "    l1 = len(str1)\n",
    "    l2 = len(str2)\n",
    "    matrix = np.zeros((l1+1, l2+1))\n",
    "    #k=1\n",
    "    \n",
    "    for i in range(1, l1+1):\n",
    "        matrix[i][0] = gap*i\n",
    "    \n",
    "    for i in range(1, l2+1):\n",
    "        matrix[0][i] = gap*i\n",
    "    \n",
    "    for i in range(1, l2+1):\n",
    "        for j in range(1, l1+1):\n",
    "            F_1 = matrix[j-1][i-1] + match(str1[j-1], str2[i-1], mu)\n",
    "            F_2 = matrix[j-1][i] + gap\n",
    "            F_3 = matrix[j][i-1] + gap\n",
    "            matrix[j, i] = max(F_1, F_2, F_3)\n",
    "    #As matrix computed, we reach returning point\n",
    "    algn1 = ''\n",
    "    algn2 = ''\n",
    "    a = l1\n",
    "    b = l2\n",
    "    while not(a == 0 and b == 0):\n",
    "        if matrix[a][b] == matrix[a-1][b-1] + match(str1[a-1], str2[b-1], mu):\n",
    "            algn1 += str1[a-1]\n",
    "            algn2 += str2[b-1]\n",
    "            a = a-1\n",
    "            b = b-1\n",
    "        elif matrix[a][b] == matrix[a-1][b] + gap:\n",
    "            algn1 += str1[a-1]\n",
    "            algn2 += '-'\n",
    "            a = a-1\n",
    "        else:\n",
    "            algn1 += '-'\n",
    "            algn2 += str2[b-1]\n",
    "            b = b-1\n",
    "        '''max_res = max(matrix[a-1][b-1], matrix[a][b-1], matrix[a-1][b])\n",
    "        if max_res == matrix[a-1][b-1]:\n",
    "            algn1 += str1[a-1]\n",
    "            algn2 += str2[b-1]\n",
    "            a = a-1\n",
    "            b = b-1\n",
    "        elif max_res == matrix[a-1][b]:\n",
    "            algn1 += str1[a-1]\n",
    "            algn2 += '-'\n",
    "            a = a-1\n",
    "        else:\n",
    "            algn1 += '-'\n",
    "            algn2 += str2[b-1]\n",
    "            b = b-1'''\n",
    "    if a>0:\n",
    "        while a != 0:\n",
    "            algn1 += str1[a-1]\n",
    "            algn2 += '-'\n",
    "            a = a-1\n",
    "    if b>0:\n",
    "        while b != 0:\n",
    "            algn1 += '-'\n",
    "            algn2 += str2[b-1]\n",
    "            b = b-1\n",
    "    print(a, b) #для проверки\n",
    "    algn1 = algn1[::-1]\n",
    "    algn2 = algn2[::-1]\n",
    "    return algn1, algn2, matrix"
   ]
  },
  {
   "cell_type": "code",
   "execution_count": 8,
   "metadata": {},
   "outputs": [
    {
     "name": "stdout",
     "output_type": "stream",
     "text": [
      "0 0\n",
      "GTAGGCTTAAGGTTA\n",
      "-TA-G----A---TA\n"
     ]
    }
   ],
   "source": [
    "a1, a2, matrix = noodle('GTAGGCTTAAGGTTA', 'TAGATA', -1, -6, match)\n",
    "print(a1)\n",
    "print(a2)"
   ]
  },
  {
   "cell_type": "markdown",
   "metadata": {},
   "source": [
    "* Не похоже на пример в презентации из-за немного другого обратного хода, в целом всё ок"
   ]
  },
  {
   "cell_type": "markdown",
   "metadata": {},
   "source": [
    "### Local (Smith-Watterman)"
   ]
  },
  {
   "cell_type": "code",
   "execution_count": 26,
   "metadata": {},
   "outputs": [],
   "source": [
    "def smith_water(str1, str2, mu, gap, match:callable):\n",
    "    #Computing matrix\n",
    "    \n",
    "    str1 = str1.upper()\n",
    "    str2 = str2.upper()\n",
    "    l1 = len(str1)\n",
    "    l2 = len(str2)\n",
    "    if l1 < l2:\n",
    "        str1, str2 = str2, str1\n",
    "        l1, l2 = l2, l1\n",
    "    matrix = np.zeros((l1+1, l2+1))\n",
    "    #k=1\n",
    "    \n",
    "    for i in range(1, l1+1):\n",
    "        matrix[i][0] = 0\n",
    "    \n",
    "    for i in range(1, l2+1):\n",
    "        matrix[0][i] = 0\n",
    "    \n",
    "    for i in range(1, l2+1):\n",
    "        for j in range(1, l1+1):\n",
    "            F_1 = matrix[j-1][i-1] + match(str1[j-1], str2[i-1], mu)\n",
    "            F_2 = matrix[j-1][i] + gap\n",
    "            F_3 = matrix[j][i-1] + gap\n",
    "            matrix[j, i] = max(F_1, F_2, F_3, 0)\n",
    "    \n",
    "    #As matrix computed, we reach returning point\n",
    "    \n",
    "    algn1 = ''\n",
    "    algn2 = ''\n",
    "    arg_max = np.where(matrix == np.amax(matrix))\n",
    "    a, b = arg_max[0][0], arg_max[1][0]\n",
    "    #while matrix[a][b] != 0 and a != 0 and b != 0:\n",
    "        #pass\n",
    "    #print(a, b, matrix)\n",
    "    algn_1 = ''\n",
    "    algn_2 = ''\n",
    "    for i in range(0, l1-l2):\n",
    "        pass\n",
    "    while a != 0 and b != 0:\n",
    "        algn_2 += str2[b-1]\n",
    "        algn_1 += str1[a-1]\n",
    "        a, b = a-1, b-1\n",
    "    while a != 0:\n",
    "        algn_1 += str1[a-1]\n",
    "        algn_2 += '-'\n",
    "        a = a-1\n",
    "    while b != 0:\n",
    "        algn_2 += str2[b-1]\n",
    "        algn_1 += '-'\n",
    "        b = b-1\n",
    "    algn_1, algn_2 = algn_1[::-1], algn_2[::-1]\n",
    "    a, b = arg_max[0][0], arg_max[1][0]\n",
    "    if l1-a > l2 - b:\n",
    "        for i in range(0, l2-b):\n",
    "            algn_2 += str2[b+i]\n",
    "        for i in range(0, l1-a):\n",
    "            algn_1 += str1[a+i]\n",
    "        for i in range(0, l1-a - (l2 - b)):\n",
    "            algn_2 += '-'\n",
    "    else:\n",
    "        for i in range(0, l2-b):\n",
    "            algn_2 += str2[b+i]\n",
    "        for i in range(0, l1-a):\n",
    "            algn_1 += str1[a+i]\n",
    "        for i in range(0, -(l1-a - (l2 - b))):\n",
    "            algn_1 += '-'\n",
    "    '''for x in range(0, len(str1)-a):\n",
    "        algn_1 += str1[-x]\n",
    "    for x in range(0, len(str2)-b):\n",
    "        algn_2 += str2[-x]\n",
    "        algn_1 += '-'\n",
    "    while matrix[a][b]!=0:\n",
    "        res = max(matrix[a-1][b-1], matrix[a-1][b], matrix[a][b-1])\n",
    "        if res == matrix[a-1][b-1]:\n",
    "            algn_1 += str1[a-1]\n",
    "            algn_2 += str2[b-1]\n",
    "            a, b = a-1, b-1\n",
    "        if res == matrix[a-1][b]:\n",
    "            algn_1 += str1[a-1]\n",
    "            algn_2 += '-'\n",
    "            a, b = a-1, b\n",
    "        if res == matrix[a][b-1]:\n",
    "            algn_2 += str2[b-1]\n",
    "            algn_1 += '-'\n",
    "            a, b = a, b-1\n",
    "    #for x in range(0, len(str1)-len(algn_1)):\n",
    "       # algn_1 += '-'\n",
    "    #for '''\n",
    "    return algn_1, algn_2"
   ]
  },
  {
   "cell_type": "code",
   "execution_count": 28,
   "metadata": {},
   "outputs": [
    {
     "name": "stdout",
     "output_type": "stream",
     "text": [
      "GTAGGCTTAAGGTTA\n",
      "-TAGATA--------\n"
     ]
    }
   ],
   "source": [
    "str1 = 'GTAGGCTTAAGGTTA'\n",
    "str2 = 'TAGATA'\n",
    "\n",
    "a1, a2 = smith_water(str1, str2, -5, -10, match)\n",
    "print(a1)\n",
    "print(a2)"
   ]
  },
  {
   "cell_type": "markdown",
   "metadata": {},
   "source": [
    "### Fitting"
   ]
  },
  {
   "cell_type": "code",
   "execution_count": 100,
   "metadata": {},
   "outputs": [],
   "source": [
    "#return match or mismatch score\n",
    "def match_2(s, t, i, j):\n",
    "    if t[i-1] == s[j-1]:\n",
    "        return match\n",
    "    else:\n",
    "        return mismatch\n",
    "\n",
    "#initializers for matrices\n",
    "def init_x(i, j):\n",
    "    if i > 0 and j == 0:\n",
    "        return infinity\n",
    "    else:\n",
    "        if j > 0:\n",
    "            return init_gap + (gap * j)\n",
    "        else:\n",
    "            return 0\n",
    "\n",
    "def init_y(i, j):\n",
    "    if j > 0 and i == 0:\n",
    "        return infinity\n",
    "    else:\n",
    "        if i > 0:\n",
    "            return init_gap + (gap * i)\n",
    "        else:\n",
    "            return 0\n",
    "\n",
    "def init_m(i, j):\n",
    "    if j == 0 and i == 0:\n",
    "        return 0\n",
    "    else:\n",
    "        if j == 0 or i == 0:\n",
    "            return infinity\n",
    "        else:\n",
    "            return 0"
   ]
  },
  {
   "cell_type": "code",
   "execution_count": 110,
   "metadata": {},
   "outputs": [],
   "source": [
    "init_gap   =  -50\n",
    "gap   =  -0.2\n",
    "match = 1\n",
    "mismatch = -4\n",
    "infinity = -float(\"inf\")\n",
    "\n",
    "def greek_pow(s, t):\n",
    "    \n",
    "    global init_e\n",
    "    global gap\n",
    "    global match\n",
    "    global mismatch\n",
    "    global infinity\n",
    "    \n",
    "    dim_i = len(t) + 1\n",
    "    dim_j = len(s) + 1\n",
    "    #abuse list comprehensions to create matrices\n",
    "    X = [[init_x(i, j) for j in range(0, dim_j)] for i in range(0, dim_i)]\n",
    "    Y = [[init_y(i, j) for j in range(0, dim_j)] for i in range(0, dim_i)]\n",
    "    M = [[init_m(i, j) for j in range(0, dim_j)] for i in range(0, dim_i)]\n",
    "\n",
    "    for j in range(1, dim_j):\n",
    "        for i in range(1, dim_i):\n",
    "            X[i][j] = max((init_gap + gap + M[i][j-1]), (gap + X[i][j-1]), (init_gap + gap + Y[i][j-1]))\n",
    "            Y[i][j] = max((init_gap + gap + M[i-1][j]), (init_gap + gap + X[i-1][j]), (gap + Y[i-1][j]))\n",
    "            M[i][j] = max(match_2(s, t, i, j) + M[i-1][j-1], X[i][j], Y[i][j])\n",
    "    \n",
    "    align1 = ''\n",
    "    align2 = ''\n",
    "    i = len(t)\n",
    "    j = len(s)\n",
    "    while (i>0 or j>0):\n",
    "        #print(i,j)\n",
    "        if (i > 0 and j > 0 and M[i][j] == M[i-1][j-1] + match_2(s, t, i, j)):\n",
    "            align1 += s[j-1]\n",
    "            align2 += t[i-1]\n",
    "            i -= 1\n",
    "            j -= 1\n",
    "        elif (i > 0 and M[i][j] == Y[i][j]):\n",
    "            align1 += '-'\n",
    "            align2 += t[i-1]\n",
    "            i -= 1\n",
    "        elif (j > 0 and M[i][j] == X[i][j]):\n",
    "            align1 += s[j-1]\n",
    "            align2 += '-'\n",
    "            j -= 1\n",
    "        if i == 0 and j > 0:\n",
    "            align1 += s[j-1]\n",
    "            align2 += '-'\n",
    "            j -= 1\n",
    "        if j == 0 and i > 0:\n",
    "            align1 += '-'\n",
    "            align2 += t[i-1]\n",
    "            i -= 1\n",
    "    align1_fin = ''.join([align1[j] for j in range(-1, -(len(align1)+1), -1)])\n",
    "    align2_fin = ''.join([align2[j] for j in range(-1, -(len(align2)+1), -1)])\n",
    "\n",
    "    return align1_fin, align2_fin"
   ]
  },
  {
   "cell_type": "code",
   "execution_count": 111,
   "metadata": {},
   "outputs": [
    {
     "name": "stdout",
     "output_type": "stream",
     "text": [
      "ABBAC\n",
      "B-B-C\n"
     ]
    }
   ],
   "source": [
    "str1 = 'ABBAC'\n",
    "str2 = 'BBC'\n",
    "\n",
    "a1, a2 = greek_pow(str1, str2)\n",
    "print(a1)\n",
    "print(a2)"
   ]
  },
  {
   "cell_type": "code",
   "execution_count": 112,
   "metadata": {},
   "outputs": [
    {
     "name": "stdout",
     "output_type": "stream",
     "text": [
      "GTAGGCTTAAGGTTA\n",
      "T---------AGATA\n"
     ]
    }
   ],
   "source": [
    "str1 = 'GTAGGCTTAAGGTTA'\n",
    "str2 = 'TAGATA'\n",
    "\n",
    "a1, a2 = greek_pow(str1, str2)\n",
    "print(a1)\n",
    "print(a2)"
   ]
  }
 ],
 "metadata": {
  "kernelspec": {
   "display_name": "Python 3",
   "language": "python",
   "name": "python3"
  },
  "language_info": {
   "codemirror_mode": {
    "name": "ipython",
    "version": 3
   },
   "file_extension": ".py",
   "mimetype": "text/x-python",
   "name": "python",
   "nbconvert_exporter": "python",
   "pygments_lexer": "ipython3",
   "version": "3.7.3"
  }
 },
 "nbformat": 4,
 "nbformat_minor": 2
}
