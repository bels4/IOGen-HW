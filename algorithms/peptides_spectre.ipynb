{
 "cells": [
  {
   "cell_type": "code",
   "execution_count": 2,
   "metadata": {},
   "outputs": [],
   "source": [
    "import numpy as np"
   ]
  },
  {
   "cell_type": "code",
   "execution_count": 51,
   "metadata": {},
   "outputs": [
    {
     "data": {
      "text/plain": [
       "[0,\n",
       " 113.0,\n",
       " 114.0,\n",
       " 128.0,\n",
       " 129.0,\n",
       " 227.0,\n",
       " 242.0,\n",
       " 242.0,\n",
       " 257.0,\n",
       " 355.0,\n",
       " 356.0,\n",
       " 370.0,\n",
       " 371.0,\n",
       " 484.0]"
      ]
     },
     "execution_count": 51,
     "metadata": {},
     "output_type": "execute_result"
    }
   ],
   "source": [
    "amino_mass = {'G': 57.,'A': 71., 'S':87., \n",
    "              'P':97.1, 'V':99.1, \n",
    "              'T': 101.1, 'C':103., 'I': 113.1, \n",
    "              'L': 113.0, 'N': 114., \n",
    "              'D': 115., 'Q': 128.1, 'K': 128.1, 'E': 129., \n",
    "              'M': 131., 'H': 137.1, 'F': 147.1, 'R': 156.1,\n",
    "              'Y': 163.1, 'W': 186.1}\n",
    "amino_lst = list(amino_mass.keys())\n",
    "\n",
    "def cyclo_spectrum(peptide):\n",
    "    global amino_lst\n",
    "    global amino_mass\n",
    "    pref_mass = [0]\n",
    "    for i in range(len(peptide)):\n",
    "        for j in range(20):\n",
    "            if amino_lst[j] == peptide[i]:\n",
    "                #print(pref_mass[i-1]+amino_mass[amino_lst[j]], i, j)\n",
    "                pref_mass.append(pref_mass[i]+amino_mass[amino_lst[j]])\n",
    "    #print(pref_mass)        \n",
    "    peptide_mass = max(pref_mass)\n",
    "    cycle_spec = [0]\n",
    "    for i in range(0, len(peptide)):\n",
    "        for j in range(i+1, len(peptide)+1):\n",
    "            res = pref_mass[j]-pref_mass[i]\n",
    "            cycle_spec.append(round(res,1))\n",
    "            if i > 0 and j < len(peptide):\n",
    "                cycle_spec.append(round((peptide_mass - res),1))\n",
    "    return sorted(cycle_spec)\n",
    "\n",
    "cyclo_spectrum('NQEL')"
   ]
  },
  {
   "cell_type": "code",
   "execution_count": 52,
   "metadata": {},
   "outputs": [
    {
     "data": {
      "text/plain": [
       "'NQEL'"
      ]
     },
     "execution_count": 52,
     "metadata": {},
     "output_type": "execute_result"
    }
   ],
   "source": [
    "def mass(peptide):\n",
    "    res = 0\n",
    "    for aa in peptide:\n",
    "        res += amino_mass[aa]\n",
    "    return res\n",
    "\n",
    "def cyclopeptide_seq(spectre):\n",
    "    peptides = []\n",
    "    saved = []\n",
    "    if not saved:\n",
    "        peptides.extend(amino_lst)\n",
    "    while len(peptides) > 0:\n",
    "        for peptide in peptides:\n",
    "            if mass(peptide) in spectre:\n",
    "                if cyclo_spectrum(peptide) == spectre:\n",
    "                    return peptide\n",
    "                saved.append(peptide) \n",
    "                peptides.remove(peptide)\n",
    "            else:\n",
    "                peptides.remove(peptide)\n",
    "        for saved_peptide in saved:\n",
    "            for aa in amino_lst:\n",
    "                peptides.append(saved_peptide + aa)\n",
    "\n",
    "spectre = cyclo_spectrum('NQEL')\n",
    "cyclopeptide_seq(spectre)"
   ]
  },
  {
   "cell_type": "code",
   "execution_count": 102,
   "metadata": {},
   "outputs": [
    {
     "data": {
      "text/plain": [
       "True"
      ]
     },
     "execution_count": 102,
     "metadata": {},
     "output_type": "execute_result"
    }
   ],
   "source": [
    "def check_in_with_delta(obj, lst):\n",
    "    delta = 0.1\n",
    "    check_lst = np.linspace(obj-delta, obj+delta, 3)\n",
    "    for ch in check_lst:\n",
    "        if ch in lst:\n",
    "            return True\n",
    "    else:\n",
    "        return False\n",
    "    \n",
    "lst = [1.1, 2]\n",
    "check_in_with_delta(1., lst)"
   ]
  },
  {
   "cell_type": "code",
   "execution_count": 103,
   "metadata": {},
   "outputs": [],
   "source": [
    "def find_score(peptide, spectre):\n",
    "    spec_theor = cyclo_spectrum(peptide)\n",
    "    score = 0\n",
    "    for x in spec_theor:\n",
    "        if check_in_with_delta(x, spectre):\n",
    "            score += 1\n",
    "    return score"
   ]
  },
  {
   "cell_type": "code",
   "execution_count": 117,
   "metadata": {},
   "outputs": [],
   "source": [
    "import itertools as it\n",
    "\n",
    "def trim(peptides, spectre):\n",
    "    score_lst = []\n",
    "    for peptide in peptides:\n",
    "        score_lst.append(find_score(peptide, spectre))\n",
    "    res = [x for _, x in sorted(zip(score_lst, peptides))]\n",
    "    #print(res)\n",
    "    return res[len(peptides)-200 : len(peptides)] \n",
    "\n",
    "def real_cyclopep_seq(spectre):\n",
    "    peptides = []\n",
    "    score_max = float('-inf')\n",
    "    flag = True\n",
    "    ans = ''\n",
    "    peptides.extend(map(''.join, list(it.product(amino_lst, repeat=3))))\n",
    "    while len(peptides) > 0:\n",
    "        res = trim(peptides, spectre)\n",
    "        for peptide in res:\n",
    "            score = find_score(peptide, spectre)\n",
    "            if score > score_max:\n",
    "                score_max = score\n",
    "                ans = peptide\n",
    "            if mass(peptide) - 300 > max(spectre):\n",
    "                flag = False\n",
    "        if mass(ans) == max(spectre):\n",
    "            return ans\n",
    "        if flag:\n",
    "            peptides = []\n",
    "            for pep in res:\n",
    "                for aa in amino_lst:\n",
    "                    peptides.append(pep + aa)\n",
    "        else:\n",
    "            return ans"
   ]
  },
  {
   "cell_type": "code",
   "execution_count": 118,
   "metadata": {},
   "outputs": [],
   "source": [
    "data = []\n",
    "with open('data/Spectrum.txt', 'r') as f:\n",
    "    for line in f:\n",
    "        data.extend(list(map(float, (line.rstrip()).split())))\n",
    "spectre = data"
   ]
  },
  {
   "cell_type": "code",
   "execution_count": 119,
   "metadata": {},
   "outputs": [
    {
     "data": {
      "text/plain": [
       "'YYTQYLILYQT'"
      ]
     },
     "execution_count": 119,
     "metadata": {},
     "output_type": "execute_result"
    }
   ],
   "source": [
    "real_cyclopep_seq(spectre)"
   ]
  },
  {
   "cell_type": "code",
   "execution_count": 121,
   "metadata": {},
   "outputs": [
    {
     "data": {
      "text/plain": [
       "9"
      ]
     },
     "execution_count": 121,
     "metadata": {},
     "output_type": "execute_result"
    }
   ],
   "source": [
    "find_score('YWWTFNKNGA', spectre)"
   ]
  },
  {
   "cell_type": "code",
   "execution_count": null,
   "metadata": {},
   "outputs": [],
   "source": []
  }
 ],
 "metadata": {
  "kernelspec": {
   "display_name": "Python 3",
   "language": "python",
   "name": "python3"
  },
  "language_info": {
   "codemirror_mode": {
    "name": "ipython",
    "version": 3
   },
   "file_extension": ".py",
   "mimetype": "text/x-python",
   "name": "python",
   "nbconvert_exporter": "python",
   "pygments_lexer": "ipython3",
   "version": "3.7.3"
  }
 },
 "nbformat": 4,
 "nbformat_minor": 2
}
